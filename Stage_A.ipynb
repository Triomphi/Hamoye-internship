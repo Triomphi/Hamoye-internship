{
  "nbformat": 4,
  "nbformat_minor": 0,
  "metadata": {
    "colab": {
      "name": "Stage A.ipynb",
      "provenance": [],
      "authorship_tag": "ABX9TyNK3q6hTtjmsWvGsnik9tYR",
      "include_colab_link": true
    },
    "kernelspec": {
      "name": "python3",
      "display_name": "Python 3"
    },
    "language_info": {
      "name": "python"
    }
  },
  "cells": [
    {
      "cell_type": "markdown",
      "metadata": {
        "id": "view-in-github",
        "colab_type": "text"
      },
      "source": [
        "<a href=\"https://colab.research.google.com/github/Triomphi/Hamoye-internship/blob/master/Stage_A.ipynb\" target=\"_parent\"><img src=\"https://colab.research.google.com/assets/colab-badge.svg\" alt=\"Open In Colab\"/></a>"
      ]
    },
    {
      "cell_type": "code",
      "metadata": {
        "id": "Q5DDlo5x9dyj"
      },
      "source": [
        "import numpy as np\n"
      ],
      "execution_count": 1,
      "outputs": []
    },
    {
      "cell_type": "code",
      "metadata": {
        "id": "XSV4GaSJ-xXy"
      },
      "source": [
        "import pandas as pd\n",
        "data = pd.read_csv('fuel_ferc1.csv')"
      ],
      "execution_count": 48,
      "outputs": []
    },
    {
      "cell_type": "code",
      "metadata": {
        "colab": {
          "base_uri": "https://localhost:8080/",
          "height": 224
        },
        "id": "nhn1Odi6__Wx",
        "outputId": "19db55b6-d660-469b-eb65-5c7cebfeb606"
      },
      "source": [
        "data.head()"
      ],
      "execution_count": 11,
      "outputs": [
        {
          "output_type": "execute_result",
          "data": {
            "text/html": [
              "<div>\n",
              "<style scoped>\n",
              "    .dataframe tbody tr th:only-of-type {\n",
              "        vertical-align: middle;\n",
              "    }\n",
              "\n",
              "    .dataframe tbody tr th {\n",
              "        vertical-align: top;\n",
              "    }\n",
              "\n",
              "    .dataframe thead th {\n",
              "        text-align: right;\n",
              "    }\n",
              "</style>\n",
              "<table border=\"1\" class=\"dataframe\">\n",
              "  <thead>\n",
              "    <tr style=\"text-align: right;\">\n",
              "      <th></th>\n",
              "      <th>record_id</th>\n",
              "      <th>utility_id_ferc1</th>\n",
              "      <th>report_year</th>\n",
              "      <th>plant_name_ferc1</th>\n",
              "      <th>fuel_type_code_pudl</th>\n",
              "      <th>fuel_unit</th>\n",
              "      <th>fuel_qty_burned</th>\n",
              "      <th>fuel_mmbtu_per_unit</th>\n",
              "      <th>fuel_cost_per_unit_burned</th>\n",
              "      <th>fuel_cost_per_unit_delivered</th>\n",
              "      <th>fuel_cost_per_mmbtu</th>\n",
              "    </tr>\n",
              "  </thead>\n",
              "  <tbody>\n",
              "    <tr>\n",
              "      <th>0</th>\n",
              "      <td>f1_fuel_1994_12_1_0_7</td>\n",
              "      <td>1.0</td>\n",
              "      <td>1994.0</td>\n",
              "      <td>rockport</td>\n",
              "      <td>coal</td>\n",
              "      <td>ton</td>\n",
              "      <td>5377489.0</td>\n",
              "      <td>16.590</td>\n",
              "      <td>18.59</td>\n",
              "      <td>18.53</td>\n",
              "      <td>1.121</td>\n",
              "    </tr>\n",
              "    <tr>\n",
              "      <th>1</th>\n",
              "      <td>f1_fuel_1994_12_1_0_10</td>\n",
              "      <td>1.0</td>\n",
              "      <td>1994.0</td>\n",
              "      <td>rockport total plant</td>\n",
              "      <td>coal</td>\n",
              "      <td>ton</td>\n",
              "      <td>10486945.0</td>\n",
              "      <td>16.592</td>\n",
              "      <td>18.58</td>\n",
              "      <td>18.53</td>\n",
              "      <td>1.120</td>\n",
              "    </tr>\n",
              "    <tr>\n",
              "      <th>2</th>\n",
              "      <td>f1_fuel_1994_12_2_0_1</td>\n",
              "      <td>2.0</td>\n",
              "      <td>1994.0</td>\n",
              "      <td>gorgas</td>\n",
              "      <td>coal</td>\n",
              "      <td>ton</td>\n",
              "      <td>2978683.0</td>\n",
              "      <td>24.130</td>\n",
              "      <td>39.72</td>\n",
              "      <td>38.12</td>\n",
              "      <td>1.650</td>\n",
              "    </tr>\n",
              "    <tr>\n",
              "      <th>3</th>\n",
              "      <td>f1_fuel_1994_12_2_0_7</td>\n",
              "      <td>2.0</td>\n",
              "      <td>1994.0</td>\n",
              "      <td>barry</td>\n",
              "      <td>coal</td>\n",
              "      <td>ton</td>\n",
              "      <td>3739484.0</td>\n",
              "      <td>23.950</td>\n",
              "      <td>47.21</td>\n",
              "      <td>45.99</td>\n",
              "      <td>1.970</td>\n",
              "    </tr>\n",
              "    <tr>\n",
              "      <th>4</th>\n",
              "      <td>f1_fuel_1994_12_2_0_10</td>\n",
              "      <td>2.0</td>\n",
              "      <td>1994.0</td>\n",
              "      <td>chickasaw</td>\n",
              "      <td>gas</td>\n",
              "      <td>mcf</td>\n",
              "      <td>40533.0</td>\n",
              "      <td>1.000</td>\n",
              "      <td>2.77</td>\n",
              "      <td>2.77</td>\n",
              "      <td>2.570</td>\n",
              "    </tr>\n",
              "  </tbody>\n",
              "</table>\n",
              "</div>"
            ],
            "text/plain": [
              "                record_id  ...  fuel_cost_per_mmbtu\n",
              "0   f1_fuel_1994_12_1_0_7  ...                1.121\n",
              "1  f1_fuel_1994_12_1_0_10  ...                1.120\n",
              "2   f1_fuel_1994_12_2_0_1  ...                1.650\n",
              "3   f1_fuel_1994_12_2_0_7  ...                1.970\n",
              "4  f1_fuel_1994_12_2_0_10  ...                2.570\n",
              "\n",
              "[5 rows x 11 columns]"
            ]
          },
          "metadata": {},
          "execution_count": 11
        }
      ]
    },
    {
      "cell_type": "markdown",
      "metadata": {
        "id": "h93TRowGKAvy"
      },
      "source": [
        "Question 1"
      ]
    },
    {
      "cell_type": "code",
      "metadata": {
        "colab": {
          "base_uri": "https://localhost:8080/"
        },
        "id": "ynOk4bM4JE-f",
        "outputId": "e9961e24-6689-4c0e-9c84-2f174b8ddaf7"
      },
      "source": [
        "A = [1,2,3,4,5,6]\n",
        "B = [13, 21, 34]\n",
        "A.extend(B)\n",
        "A"
      ],
      "execution_count": 44,
      "outputs": [
        {
          "output_type": "execute_result",
          "data": {
            "text/plain": [
              "[1, 2, 3, 4, 5, 6, 13, 21, 34]"
            ]
          },
          "metadata": {},
          "execution_count": 44
        }
      ]
    },
    {
      "cell_type": "code",
      "metadata": {
        "colab": {
          "base_uri": "https://localhost:8080/"
        },
        "id": "PcWzpUXVJFiS",
        "outputId": "e9856f5f-08a7-442f-ecf2-42eb69b285b7"
      },
      "source": [
        "A.append(B)\n",
        "A"
      ],
      "execution_count": 45,
      "outputs": [
        {
          "output_type": "execute_result",
          "data": {
            "text/plain": [
              "[1, 2, 3, 4, 5, 6, 13, 21, 34, [13, 21, 34]]"
            ]
          },
          "metadata": {},
          "execution_count": 45
        }
      ]
    },
    {
      "cell_type": "markdown",
      "metadata": {
        "id": "ckibspM1KF_B"
      },
      "source": [
        "Question 2"
      ]
    },
    {
      "cell_type": "code",
      "metadata": {
        "colab": {
          "base_uri": "https://localhost:8080/"
        },
        "id": "eKRDTahGKJHv",
        "outputId": "3f7fe785-f2ee-49e4-9f3c-540fef8f7ad4"
      },
      "source": [
        "np.identity(3)"
      ],
      "execution_count": 46,
      "outputs": [
        {
          "output_type": "execute_result",
          "data": {
            "text/plain": [
              "array([[1., 0., 0.],\n",
              "       [0., 1., 0.],\n",
              "       [0., 0., 1.]])"
            ]
          },
          "metadata": {},
          "execution_count": 46
        }
      ]
    },
    {
      "cell_type": "code",
      "metadata": {
        "colab": {
          "base_uri": "https://localhost:8080/",
          "height": 163
        },
        "id": "2ZiP4IagKRq0",
        "outputId": "2b06af18-7aba-4678-9a3c-0ca865f4d8b0"
      },
      "source": [
        "eye(3)"
      ],
      "execution_count": 47,
      "outputs": [
        {
          "output_type": "error",
          "ename": "NameError",
          "evalue": "ignored",
          "traceback": [
            "\u001b[0;31m---------------------------------------------------------------------------\u001b[0m",
            "\u001b[0;31mNameError\u001b[0m                                 Traceback (most recent call last)",
            "\u001b[0;32m<ipython-input-47-253a04373ff7>\u001b[0m in \u001b[0;36m<module>\u001b[0;34m()\u001b[0m\n\u001b[0;32m----> 1\u001b[0;31m \u001b[0meye\u001b[0m\u001b[0;34m(\u001b[0m\u001b[0;36m3\u001b[0m\u001b[0;34m)\u001b[0m\u001b[0;34m\u001b[0m\u001b[0;34m\u001b[0m\u001b[0m\n\u001b[0m",
            "\u001b[0;31mNameError\u001b[0m: name 'eye' is not defined"
          ]
        }
      ]
    },
    {
      "cell_type": "code",
      "metadata": {
        "colab": {
          "base_uri": "https://localhost:8080/",
          "height": 163
        },
        "id": "oJedlV6y9ixD",
        "outputId": "6991e5ef-cabe-4e4c-9831-a7be2a572fe5"
      },
      "source": [
        "np.array([1,0,0],[0,1,0],[0,0,1])"
      ],
      "execution_count": 36,
      "outputs": [
        {
          "output_type": "error",
          "ename": "TypeError",
          "evalue": "ignored",
          "traceback": [
            "\u001b[0;31m---------------------------------------------------------------------------\u001b[0m",
            "\u001b[0;31mTypeError\u001b[0m                                 Traceback (most recent call last)",
            "\u001b[0;32m<ipython-input-36-87d28b744117>\u001b[0m in \u001b[0;36m<module>\u001b[0;34m()\u001b[0m\n\u001b[0;32m----> 1\u001b[0;31m \u001b[0mnp\u001b[0m\u001b[0;34m.\u001b[0m\u001b[0marray\u001b[0m\u001b[0;34m(\u001b[0m\u001b[0;34m[\u001b[0m\u001b[0;36m1\u001b[0m\u001b[0;34m,\u001b[0m\u001b[0;36m0\u001b[0m\u001b[0;34m,\u001b[0m\u001b[0;36m0\u001b[0m\u001b[0;34m]\u001b[0m\u001b[0;34m,\u001b[0m\u001b[0;34m[\u001b[0m\u001b[0;36m0\u001b[0m\u001b[0;34m,\u001b[0m\u001b[0;36m1\u001b[0m\u001b[0;34m,\u001b[0m\u001b[0;36m0\u001b[0m\u001b[0;34m]\u001b[0m\u001b[0;34m,\u001b[0m\u001b[0;34m[\u001b[0m\u001b[0;36m0\u001b[0m\u001b[0;34m,\u001b[0m\u001b[0;36m0\u001b[0m\u001b[0;34m,\u001b[0m\u001b[0;36m1\u001b[0m\u001b[0;34m]\u001b[0m\u001b[0;34m)\u001b[0m\u001b[0;34m\u001b[0m\u001b[0;34m\u001b[0m\u001b[0m\n\u001b[0m",
            "\u001b[0;31mTypeError\u001b[0m: array() takes from 1 to 2 positional arguments but 3 were given"
          ]
        }
      ]
    },
    {
      "cell_type": "code",
      "metadata": {
        "colab": {
          "base_uri": "https://localhost:8080/",
          "height": 163
        },
        "id": "PaguXFsPI-6i",
        "outputId": "7e1c8a4a-984c-4d0a-e304-33317f909986"
      },
      "source": [
        "np.array[(1,0,0),(0,1,0),(0,0,1)]"
      ],
      "execution_count": 35,
      "outputs": [
        {
          "output_type": "error",
          "ename": "TypeError",
          "evalue": "ignored",
          "traceback": [
            "\u001b[0;31m---------------------------------------------------------------------------\u001b[0m",
            "\u001b[0;31mTypeError\u001b[0m                                 Traceback (most recent call last)",
            "\u001b[0;32m<ipython-input-35-7cafea213b5f>\u001b[0m in \u001b[0;36m<module>\u001b[0;34m()\u001b[0m\n\u001b[0;32m----> 1\u001b[0;31m \u001b[0mnp\u001b[0m\u001b[0;34m.\u001b[0m\u001b[0marray\u001b[0m\u001b[0;34m[\u001b[0m\u001b[0;34m(\u001b[0m\u001b[0;36m1\u001b[0m\u001b[0;34m,\u001b[0m\u001b[0;36m0\u001b[0m\u001b[0;34m,\u001b[0m\u001b[0;36m0\u001b[0m\u001b[0;34m)\u001b[0m\u001b[0;34m,\u001b[0m\u001b[0;34m(\u001b[0m\u001b[0;36m0\u001b[0m\u001b[0;34m,\u001b[0m\u001b[0;36m1\u001b[0m\u001b[0;34m,\u001b[0m\u001b[0;36m0\u001b[0m\u001b[0;34m)\u001b[0m\u001b[0;34m,\u001b[0m\u001b[0;34m(\u001b[0m\u001b[0;36m0\u001b[0m\u001b[0;34m,\u001b[0m\u001b[0;36m0\u001b[0m\u001b[0;34m,\u001b[0m\u001b[0;36m1\u001b[0m\u001b[0;34m)\u001b[0m\u001b[0;34m]\u001b[0m\u001b[0;34m\u001b[0m\u001b[0;34m\u001b[0m\u001b[0m\n\u001b[0m",
            "\u001b[0;31mTypeError\u001b[0m: 'builtin_function_or_method' object is not subscriptable"
          ]
        }
      ]
    },
    {
      "cell_type": "markdown",
      "metadata": {
        "id": "tEyPHA_yL9Qv"
      },
      "source": [
        "Question 4"
      ]
    },
    {
      "cell_type": "code",
      "metadata": {
        "colab": {
          "base_uri": "https://localhost:8080/"
        },
        "id": "kI14PfBeL_K3",
        "outputId": "fae5041d-c67e-4c0a-9e22-8d5b6d6c1102"
      },
      "source": [
        "#get the description for the fuel_mmbtu_per_unit column\n",
        "data.fuel_mmbtu_per_unit.describe()"
      ],
      "execution_count": 50,
      "outputs": [
        {
          "output_type": "execute_result",
          "data": {
            "text/plain": [
              "count    23399.000000\n",
              "mean         8.857944\n",
              "std         11.021860\n",
              "min          0.000001\n",
              "25%          1.022000\n",
              "50%          5.783484\n",
              "75%         17.218000\n",
              "max        341.260000\n",
              "Name: fuel_mmbtu_per_unit, dtype: float64"
            ]
          },
          "metadata": {},
          "execution_count": 50
        }
      ]
    },
    {
      "cell_type": "markdown",
      "metadata": {
        "id": "pVI7BsjEKVC3"
      },
      "source": [
        "Question 6"
      ]
    },
    {
      "cell_type": "code",
      "metadata": {
        "colab": {
          "base_uri": "https://localhost:8080/"
        },
        "id": "ihAHwbM2_QIA",
        "outputId": "6186f10e-c482-493e-a5ce-8333b1614ede"
      },
      "source": [
        "data.isnull().sum()"
      ],
      "execution_count": 49,
      "outputs": [
        {
          "output_type": "execute_result",
          "data": {
            "text/plain": [
              "record_id                         0\n",
              "utility_id_ferc1                  1\n",
              "report_year                       1\n",
              "plant_name_ferc1                  1\n",
              "fuel_type_code_pudl               1\n",
              "fuel_unit                       149\n",
              "fuel_qty_burned                   1\n",
              "fuel_mmbtu_per_unit               1\n",
              "fuel_cost_per_unit_burned         1\n",
              "fuel_cost_per_unit_delivered      1\n",
              "fuel_cost_per_mmbtu               1\n",
              "dtype: int64"
            ]
          },
          "metadata": {},
          "execution_count": 49
        }
      ]
    },
    {
      "cell_type": "code",
      "metadata": {
        "colab": {
          "base_uri": "https://localhost:8080/"
        },
        "id": "Udx2ihZc_kf0",
        "outputId": "e4f74ef9-23a3-4250-e5e8-927817ba585e"
      },
      "source": [
        "(((data.isnull().sum())/ len(data)) * 100).round(3)"
      ],
      "execution_count": 7,
      "outputs": [
        {
          "output_type": "execute_result",
          "data": {
            "text/plain": [
              "record_id                       0.000\n",
              "utility_id_ferc1                0.004\n",
              "report_year                     0.004\n",
              "plant_name_ferc1                0.004\n",
              "fuel_type_code_pudl             0.004\n",
              "fuel_unit                       0.637\n",
              "fuel_qty_burned                 0.004\n",
              "fuel_mmbtu_per_unit             0.004\n",
              "fuel_cost_per_unit_burned       0.004\n",
              "fuel_cost_per_unit_delivered    0.004\n",
              "fuel_cost_per_mmbtu             0.004\n",
              "dtype: float64"
            ]
          },
          "metadata": {},
          "execution_count": 7
        }
      ]
    },
    {
      "cell_type": "markdown",
      "metadata": {
        "id": "ZlsxgXkHKd-s"
      },
      "source": [
        "Question 5"
      ]
    },
    {
      "cell_type": "code",
      "metadata": {
        "colab": {
          "base_uri": "https://localhost:8080/"
        },
        "id": "a_1sFLNV_-5W",
        "outputId": "b0b020e9-a62d-486c-e14d-419ecdeccb77"
      },
      "source": [
        "data['fuel_qty_burned'].skew()"
      ],
      "execution_count": 8,
      "outputs": [
        {
          "output_type": "execute_result",
          "data": {
            "text/plain": [
              "19.86614398366284"
            ]
          },
          "metadata": {},
          "execution_count": 8
        }
      ]
    },
    {
      "cell_type": "code",
      "metadata": {
        "colab": {
          "base_uri": "https://localhost:8080/"
        },
        "id": "PTN-Z7c5__L0",
        "outputId": "120d2b12-fefc-4f00-fe0c-1b4ed21f2daa"
      },
      "source": [
        "data['fuel_qty_burned'].kurt()"
      ],
      "execution_count": 10,
      "outputs": [
        {
          "output_type": "execute_result",
          "data": {
            "text/plain": [
              "939.1193638247685"
            ]
          },
          "metadata": {},
          "execution_count": 10
        }
      ]
    },
    {
      "cell_type": "markdown",
      "metadata": {
        "id": "p3ctQvYzKm5M"
      },
      "source": [
        "Question 3"
      ]
    },
    {
      "cell_type": "code",
      "metadata": {
        "colab": {
          "base_uri": "https://localhost:8080/"
        },
        "id": "hxBobIF2AJMU",
        "outputId": "8dfdae31-cacf-423c-f1c4-9e65368f79de"
      },
      "source": [
        "data.groupby('fuel_type_code_pudl')['fuel_cost_per_unit_burned'].mean().sort_values(ascending = True)"
      ],
      "execution_count": 12,
      "outputs": [
        {
          "output_type": "execute_result",
          "data": {
            "text/plain": [
              "fuel_type_code_pudl\n",
              "gas          15.126655\n",
              "waste        15.367243\n",
              "other        17.789037\n",
              "coal         71.123300\n",
              "oil         149.183004\n",
              "nuclear    3971.201897\n",
              "Name: fuel_cost_per_unit_burned, dtype: float64"
            ]
          },
          "metadata": {},
          "execution_count": 12
        }
      ]
    },
    {
      "cell_type": "markdown",
      "metadata": {
        "id": "0pfE4xXAKrlD"
      },
      "source": [
        "Question 8"
      ]
    },
    {
      "cell_type": "code",
      "metadata": {
        "colab": {
          "base_uri": "https://localhost:8080/",
          "height": 286
        },
        "id": "UjqMPkKRA6Xz",
        "outputId": "94c37181-2c7a-4c05-9bc5-2dc2a5d05b58"
      },
      "source": [
        "corre = data.corr()\n",
        "corre"
      ],
      "execution_count": 27,
      "outputs": [
        {
          "output_type": "execute_result",
          "data": {
            "text/html": [
              "<div>\n",
              "<style scoped>\n",
              "    .dataframe tbody tr th:only-of-type {\n",
              "        vertical-align: middle;\n",
              "    }\n",
              "\n",
              "    .dataframe tbody tr th {\n",
              "        vertical-align: top;\n",
              "    }\n",
              "\n",
              "    .dataframe thead th {\n",
              "        text-align: right;\n",
              "    }\n",
              "</style>\n",
              "<table border=\"1\" class=\"dataframe\">\n",
              "  <thead>\n",
              "    <tr style=\"text-align: right;\">\n",
              "      <th></th>\n",
              "      <th>utility_id_ferc1</th>\n",
              "      <th>report_year</th>\n",
              "      <th>fuel_qty_burned</th>\n",
              "      <th>fuel_mmbtu_per_unit</th>\n",
              "      <th>fuel_cost_per_unit_burned</th>\n",
              "      <th>fuel_cost_per_unit_delivered</th>\n",
              "      <th>fuel_cost_per_mmbtu</th>\n",
              "    </tr>\n",
              "  </thead>\n",
              "  <tbody>\n",
              "    <tr>\n",
              "      <th>utility_id_ferc1</th>\n",
              "      <td>1.000000</td>\n",
              "      <td>0.068928</td>\n",
              "      <td>-0.060342</td>\n",
              "      <td>-0.072608</td>\n",
              "      <td>-0.032829</td>\n",
              "      <td>-0.018811</td>\n",
              "      <td>0.014537</td>\n",
              "    </tr>\n",
              "    <tr>\n",
              "      <th>report_year</th>\n",
              "      <td>0.068928</td>\n",
              "      <td>1.000000</td>\n",
              "      <td>-0.030839</td>\n",
              "      <td>-0.095045</td>\n",
              "      <td>0.007263</td>\n",
              "      <td>-0.014914</td>\n",
              "      <td>0.050622</td>\n",
              "    </tr>\n",
              "    <tr>\n",
              "      <th>fuel_qty_burned</th>\n",
              "      <td>-0.060342</td>\n",
              "      <td>-0.030839</td>\n",
              "      <td>1.000000</td>\n",
              "      <td>-0.063284</td>\n",
              "      <td>-0.017302</td>\n",
              "      <td>-0.003634</td>\n",
              "      <td>-0.013159</td>\n",
              "    </tr>\n",
              "    <tr>\n",
              "      <th>fuel_mmbtu_per_unit</th>\n",
              "      <td>-0.072608</td>\n",
              "      <td>-0.095045</td>\n",
              "      <td>-0.063284</td>\n",
              "      <td>1.000000</td>\n",
              "      <td>0.000628</td>\n",
              "      <td>-0.010188</td>\n",
              "      <td>-0.048757</td>\n",
              "    </tr>\n",
              "    <tr>\n",
              "      <th>fuel_cost_per_unit_burned</th>\n",
              "      <td>-0.032829</td>\n",
              "      <td>0.007263</td>\n",
              "      <td>-0.017302</td>\n",
              "      <td>0.000628</td>\n",
              "      <td>1.000000</td>\n",
              "      <td>0.009341</td>\n",
              "      <td>-0.002509</td>\n",
              "    </tr>\n",
              "    <tr>\n",
              "      <th>fuel_cost_per_unit_delivered</th>\n",
              "      <td>-0.018811</td>\n",
              "      <td>-0.014914</td>\n",
              "      <td>-0.003634</td>\n",
              "      <td>-0.010188</td>\n",
              "      <td>0.009341</td>\n",
              "      <td>1.000000</td>\n",
              "      <td>-0.001431</td>\n",
              "    </tr>\n",
              "    <tr>\n",
              "      <th>fuel_cost_per_mmbtu</th>\n",
              "      <td>0.014537</td>\n",
              "      <td>0.050622</td>\n",
              "      <td>-0.013159</td>\n",
              "      <td>-0.048757</td>\n",
              "      <td>-0.002509</td>\n",
              "      <td>-0.001431</td>\n",
              "      <td>1.000000</td>\n",
              "    </tr>\n",
              "  </tbody>\n",
              "</table>\n",
              "</div>"
            ],
            "text/plain": [
              "                              utility_id_ferc1  ...  fuel_cost_per_mmbtu\n",
              "utility_id_ferc1                      1.000000  ...             0.014537\n",
              "report_year                           0.068928  ...             0.050622\n",
              "fuel_qty_burned                      -0.060342  ...            -0.013159\n",
              "fuel_mmbtu_per_unit                  -0.072608  ...            -0.048757\n",
              "fuel_cost_per_unit_burned            -0.032829  ...            -0.002509\n",
              "fuel_cost_per_unit_delivered         -0.018811  ...            -0.001431\n",
              "fuel_cost_per_mmbtu                   0.014537  ...             1.000000\n",
              "\n",
              "[7 rows x 7 columns]"
            ]
          },
          "metadata": {},
          "execution_count": 27
        }
      ]
    },
    {
      "cell_type": "code",
      "metadata": {
        "colab": {
          "base_uri": "https://localhost:8080/"
        },
        "id": "9_n9cBd7FqXO",
        "outputId": "e7c6c5c5-a0b5-48ae-8a25-c06cba798381"
      },
      "source": [
        "corre['fuel_cost_per_unit_burned'].sort_values(ascending=True)"
      ],
      "execution_count": 29,
      "outputs": [
        {
          "output_type": "execute_result",
          "data": {
            "text/plain": [
              "utility_id_ferc1               -0.032829\n",
              "fuel_qty_burned                -0.017302\n",
              "fuel_cost_per_mmbtu            -0.002509\n",
              "fuel_mmbtu_per_unit             0.000628\n",
              "report_year                     0.007263\n",
              "fuel_cost_per_unit_delivered    0.009341\n",
              "fuel_cost_per_unit_burned       1.000000\n",
              "Name: fuel_cost_per_unit_burned, dtype: float64"
            ]
          },
          "metadata": {},
          "execution_count": 29
        }
      ]
    },
    {
      "cell_type": "markdown",
      "metadata": {
        "id": "0htbe1SXLc9_"
      },
      "source": [
        "Question 9"
      ]
    },
    {
      "cell_type": "code",
      "metadata": {
        "id": "we6uoYubBDq1"
      },
      "source": [
        "#get the data for only fuel type of coal \n",
        "coal = data[data['fuel_type_code_pudl']=='coal']"
      ],
      "execution_count": 17,
      "outputs": []
    },
    {
      "cell_type": "code",
      "metadata": {
        "colab": {
          "base_uri": "https://localhost:8080/"
        },
        "id": "gGZJBsVXCBk8",
        "outputId": "0a952476-0ea3-428b-8d38-6a0889b89973"
      },
      "source": [
        "#fuel cost per unit burned over the years for coal users\n",
        "#group by the year and show their respective sum of fuel cost per unit burned\n",
        "coal.groupby('report_year')['fuel_cost_per_unit_burned'].sum()"
      ],
      "execution_count": 18,
      "outputs": [
        {
          "output_type": "execute_result",
          "data": {
            "text/plain": [
              "report_year\n",
              "1994.0     14984.572\n",
              "1995.0     14571.785\n",
              "1996.0     12694.803\n",
              "1997.0     43742.178\n",
              "1998.0     11902.597\n",
              "1999.0     16303.468\n",
              "2000.0    100428.831\n",
              "2001.0     15109.012\n",
              "2002.0      9171.164\n",
              "2003.0     30954.110\n",
              "2004.0      9632.063\n",
              "2005.0     11107.182\n",
              "2006.0     12402.684\n",
              "2007.0     12965.171\n",
              "2008.0     14331.348\n",
              "2009.0     45554.858\n",
              "2010.0     88627.745\n",
              "2011.0     17001.015\n",
              "2012.0     17546.097\n",
              "2013.0      4735.648\n",
              "Name: fuel_cost_per_unit_burned, dtype: float64"
            ]
          },
          "metadata": {},
          "execution_count": 18
        }
      ]
    },
    {
      "cell_type": "code",
      "metadata": {
        "colab": {
          "base_uri": "https://localhost:8080/"
        },
        "id": "xyCBOzd0CBoK",
        "outputId": "d4fb3995-0173-4c10-9a25-65f32ad1d207"
      },
      "source": [
        "((11902.597 - 14984.572)/14984.572) * 100"
      ],
      "execution_count": 21,
      "outputs": [
        {
          "output_type": "execute_result",
          "data": {
            "text/plain": [
              "-20.567654518260518"
            ]
          },
          "metadata": {},
          "execution_count": 21
        }
      ]
    },
    {
      "cell_type": "markdown",
      "metadata": {
        "id": "s3a4WDiGLZIF"
      },
      "source": [
        "Question 10"
      ]
    },
    {
      "cell_type": "code",
      "metadata": {
        "colab": {
          "base_uri": "https://localhost:8080/"
        },
        "id": "sG_XziYRCBrT",
        "outputId": "a007b166-fc59-4ea1-84d7-01f77d36c359"
      },
      "source": [
        "#since we're looking for the year with the highest average fuel cost per unit delivered,\n",
        "#group the data by year the print the respective averages of the fuel cost per unit delivered per year\n",
        "#arramge in descending order(highest to smallest)\n",
        "\n",
        "data.groupby('report_year')['fuel_cost_per_unit_delivered'].mean().sort_values(ascending = False)"
      ],
      "execution_count": 30,
      "outputs": [
        {
          "output_type": "execute_result",
          "data": {
            "text/plain": [
              "report_year\n",
              "1997.0    11140.197239\n",
              "1996.0     9196.705948\n",
              "2000.0      985.362877\n",
              "2009.0      652.694163\n",
              "1998.0      287.154420\n",
              "2004.0      139.524275\n",
              "2010.0       91.862105\n",
              "1994.0       63.636060\n",
              "2012.0       60.994502\n",
              "2001.0       60.050396\n",
              "2011.0       59.774667\n",
              "2008.0       58.588197\n",
              "2003.0       55.663493\n",
              "2013.0       53.765167\n",
              "2002.0       47.594361\n",
              "2007.0       43.325023\n",
              "2005.0       41.438184\n",
              "2006.0       38.657484\n",
              "1995.0       32.735269\n",
              "1999.0       25.551627\n",
              "Name: fuel_cost_per_unit_delivered, dtype: float64"
            ]
          },
          "metadata": {},
          "execution_count": 30
        }
      ]
    },
    {
      "cell_type": "code",
      "metadata": {
        "id": "U3n7opZeGv9D"
      },
      "source": [
        ""
      ],
      "execution_count": null,
      "outputs": []
    }
  ]
}