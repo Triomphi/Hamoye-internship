{
 "cells": [
  {
   "cell_type": "code",
   "execution_count": 1,
   "metadata": {},
   "outputs": [],
   "source": [
    "#import necessary libraries\n",
    "import numpy as np\n",
    "import pandas as pd\n",
    "# visualization libraries \n",
    "import matplotlib.pyplot as plt\n",
    "%matplotlib inline\n",
    "from matplotlib import style\n",
    "import seaborn as sns"
   ]
  },
  {
   "cell_type": "code",
   "execution_count": 2,
   "metadata": {},
   "outputs": [],
   "source": [
    "data = pd.read_csv('fuel_ferc1.csv')"
   ]
  },
  {
   "cell_type": "markdown",
   "metadata": {},
   "source": [
    "## Question 1"
   ]
  },
  {
   "cell_type": "code",
   "execution_count": 3,
   "metadata": {},
   "outputs": [],
   "source": [
    "A = [1,2,3,4,5,6]\n",
    "B = [13, 21, 34]"
   ]
  },
  {
   "cell_type": "code",
   "execution_count": 4,
   "metadata": {},
   "outputs": [
    {
     "data": {
      "text/plain": [
       "[1, 2, 3, 4, 5, 6, 13, 21, 34]"
      ]
     },
     "execution_count": 4,
     "metadata": {},
     "output_type": "execute_result"
    }
   ],
   "source": [
    "#correct answer because it gives the desired output\n",
    "A.extend(B)\n",
    "A"
   ]
  },
  {
   "cell_type": "code",
   "execution_count": 5,
   "metadata": {},
   "outputs": [],
   "source": [
    "A = [1,2,3,4,5,6]\n",
    "B = [13, 21, 34]"
   ]
  },
  {
   "cell_type": "code",
   "execution_count": 6,
   "metadata": {},
   "outputs": [
    {
     "data": {
      "text/plain": [
       "[1, 2, 3, 4, 5, 6, [13, 21, 34]]"
      ]
     },
     "execution_count": 6,
     "metadata": {},
     "output_type": "execute_result"
    }
   ],
   "source": [
    "# it works but does not give the desired ouput thats why .append() method is not correct\n",
    "A.append(B)\n",
    "A"
   ]
  },
  {
   "cell_type": "markdown",
   "metadata": {},
   "source": [
    "## Question 2\n",
    "\n",
    "The following will give an Error \n",
    "- eye(3)\n",
    "- np.array([1,0,0],[0,1,0],[0,0,1])\n",
    "- np.array[(1,0,0),(0,1,0),(0,0,1)]"
   ]
  },
  {
   "cell_type": "code",
   "execution_count": 7,
   "metadata": {},
   "outputs": [
    {
     "data": {
      "text/plain": [
       "array([[1., 0., 0.],\n",
       "       [0., 1., 0.],\n",
       "       [0., 0., 1.]])"
      ]
     },
     "execution_count": 7,
     "metadata": {},
     "output_type": "execute_result"
    }
   ],
   "source": [
    "np.identity(3)"
   ]
  },
  {
   "cell_type": "markdown",
   "metadata": {},
   "source": [
    "## Question 3"
   ]
  },
  {
   "cell_type": "code",
   "execution_count": 8,
   "metadata": {},
   "outputs": [
    {
     "data": {
      "text/html": [
       "<div>\n",
       "<style scoped>\n",
       "    .dataframe tbody tr th:only-of-type {\n",
       "        vertical-align: middle;\n",
       "    }\n",
       "\n",
       "    .dataframe tbody tr th {\n",
       "        vertical-align: top;\n",
       "    }\n",
       "\n",
       "    .dataframe thead th {\n",
       "        text-align: right;\n",
       "    }\n",
       "</style>\n",
       "<table border=\"1\" class=\"dataframe\">\n",
       "  <thead>\n",
       "    <tr style=\"text-align: right;\">\n",
       "      <th></th>\n",
       "      <th>record_id</th>\n",
       "      <th>utility_id_ferc1</th>\n",
       "      <th>report_year</th>\n",
       "      <th>plant_name_ferc1</th>\n",
       "      <th>fuel_type_code_pudl</th>\n",
       "      <th>fuel_unit</th>\n",
       "      <th>fuel_qty_burned</th>\n",
       "      <th>fuel_mmbtu_per_unit</th>\n",
       "      <th>fuel_cost_per_unit_burned</th>\n",
       "      <th>fuel_cost_per_unit_delivered</th>\n",
       "      <th>fuel_cost_per_mmbtu</th>\n",
       "    </tr>\n",
       "  </thead>\n",
       "  <tbody>\n",
       "    <tr>\n",
       "      <th>0</th>\n",
       "      <td>f1_fuel_1994_12_1_0_7</td>\n",
       "      <td>1</td>\n",
       "      <td>1994</td>\n",
       "      <td>rockport</td>\n",
       "      <td>coal</td>\n",
       "      <td>ton</td>\n",
       "      <td>5377489.0</td>\n",
       "      <td>16.590</td>\n",
       "      <td>18.59</td>\n",
       "      <td>18.53</td>\n",
       "      <td>1.121</td>\n",
       "    </tr>\n",
       "    <tr>\n",
       "      <th>1</th>\n",
       "      <td>f1_fuel_1994_12_1_0_10</td>\n",
       "      <td>1</td>\n",
       "      <td>1994</td>\n",
       "      <td>rockport total plant</td>\n",
       "      <td>coal</td>\n",
       "      <td>ton</td>\n",
       "      <td>10486945.0</td>\n",
       "      <td>16.592</td>\n",
       "      <td>18.58</td>\n",
       "      <td>18.53</td>\n",
       "      <td>1.120</td>\n",
       "    </tr>\n",
       "    <tr>\n",
       "      <th>2</th>\n",
       "      <td>f1_fuel_1994_12_2_0_1</td>\n",
       "      <td>2</td>\n",
       "      <td>1994</td>\n",
       "      <td>gorgas</td>\n",
       "      <td>coal</td>\n",
       "      <td>ton</td>\n",
       "      <td>2978683.0</td>\n",
       "      <td>24.130</td>\n",
       "      <td>39.72</td>\n",
       "      <td>38.12</td>\n",
       "      <td>1.650</td>\n",
       "    </tr>\n",
       "    <tr>\n",
       "      <th>3</th>\n",
       "      <td>f1_fuel_1994_12_2_0_7</td>\n",
       "      <td>2</td>\n",
       "      <td>1994</td>\n",
       "      <td>barry</td>\n",
       "      <td>coal</td>\n",
       "      <td>ton</td>\n",
       "      <td>3739484.0</td>\n",
       "      <td>23.950</td>\n",
       "      <td>47.21</td>\n",
       "      <td>45.99</td>\n",
       "      <td>1.970</td>\n",
       "    </tr>\n",
       "    <tr>\n",
       "      <th>4</th>\n",
       "      <td>f1_fuel_1994_12_2_0_10</td>\n",
       "      <td>2</td>\n",
       "      <td>1994</td>\n",
       "      <td>chickasaw</td>\n",
       "      <td>gas</td>\n",
       "      <td>mcf</td>\n",
       "      <td>40533.0</td>\n",
       "      <td>1.000</td>\n",
       "      <td>2.77</td>\n",
       "      <td>2.77</td>\n",
       "      <td>2.570</td>\n",
       "    </tr>\n",
       "  </tbody>\n",
       "</table>\n",
       "</div>"
      ],
      "text/plain": [
       "                record_id  utility_id_ferc1  report_year  \\\n",
       "0   f1_fuel_1994_12_1_0_7                 1         1994   \n",
       "1  f1_fuel_1994_12_1_0_10                 1         1994   \n",
       "2   f1_fuel_1994_12_2_0_1                 2         1994   \n",
       "3   f1_fuel_1994_12_2_0_7                 2         1994   \n",
       "4  f1_fuel_1994_12_2_0_10                 2         1994   \n",
       "\n",
       "       plant_name_ferc1 fuel_type_code_pudl fuel_unit  fuel_qty_burned  \\\n",
       "0              rockport                coal       ton        5377489.0   \n",
       "1  rockport total plant                coal       ton       10486945.0   \n",
       "2                gorgas                coal       ton        2978683.0   \n",
       "3                 barry                coal       ton        3739484.0   \n",
       "4             chickasaw                 gas       mcf          40533.0   \n",
       "\n",
       "   fuel_mmbtu_per_unit  fuel_cost_per_unit_burned  \\\n",
       "0               16.590                      18.59   \n",
       "1               16.592                      18.58   \n",
       "2               24.130                      39.72   \n",
       "3               23.950                      47.21   \n",
       "4                1.000                       2.77   \n",
       "\n",
       "   fuel_cost_per_unit_delivered  fuel_cost_per_mmbtu  \n",
       "0                         18.53                1.121  \n",
       "1                         18.53                1.120  \n",
       "2                         38.12                1.650  \n",
       "3                         45.99                1.970  \n",
       "4                          2.77                2.570  "
      ]
     },
     "execution_count": 8,
     "metadata": {},
     "output_type": "execute_result"
    }
   ],
   "source": [
    "data.head()"
   ]
  },
  {
   "cell_type": "code",
   "execution_count": 9,
   "metadata": {},
   "outputs": [
    {
     "data": {
      "text/plain": [
       "fuel_type_code_pudl\n",
       "gas          13.659397\n",
       "other        18.253856\n",
       "waste        19.518122\n",
       "coal         67.421830\n",
       "oil         168.877086\n",
       "nuclear    4955.157002\n",
       "Name: fuel_cost_per_unit_burned, dtype: float64"
      ]
     },
     "execution_count": 9,
     "metadata": {},
     "output_type": "execute_result"
    }
   ],
   "source": [
    "#first group the data by fuel type code\n",
    "#then print out the mean of fuel cost per unit burned for each type\n",
    "#sort in ascending order (from smallest to largest)\n",
    "\n",
    "data.groupby('fuel_type_code_pudl')['fuel_cost_per_unit_burned'].mean().sort_values(ascending = True)\n",
    "\n",
    "#after doing this we see that gas has the lowest average(maen)"
   ]
  },
  {
   "cell_type": "markdown",
   "metadata": {},
   "source": [
    "## Question 4"
   ]
  },
  {
   "cell_type": "code",
   "execution_count": 10,
   "metadata": {},
   "outputs": [
    {
     "data": {
      "text/plain": [
       "count    29523.000000\n",
       "mean         8.492111\n",
       "std         10.600220\n",
       "min          0.000001\n",
       "25%          1.024000\n",
       "50%          5.762694\n",
       "75%         17.006000\n",
       "max        341.260000\n",
       "Name: fuel_mmbtu_per_unit, dtype: float64"
      ]
     },
     "execution_count": 10,
     "metadata": {},
     "output_type": "execute_result"
    }
   ],
   "source": [
    "#get the description for the fuel_mmbtu_per_unit column\n",
    "data.fuel_mmbtu_per_unit.describe()"
   ]
  },
  {
   "cell_type": "markdown",
   "metadata": {},
   "source": [
    "## Question 5"
   ]
  },
  {
   "cell_type": "code",
   "execution_count": 11,
   "metadata": {},
   "outputs": [
    {
     "data": {
      "text/plain": [
       "15.851495469109503"
      ]
     },
     "execution_count": 11,
     "metadata": {},
     "output_type": "execute_result"
    }
   ],
   "source": [
    "data['fuel_qty_burned'].skew()  #skweness"
   ]
  },
  {
   "cell_type": "code",
   "execution_count": 12,
   "metadata": {},
   "outputs": [
    {
     "data": {
      "text/plain": [
       "651.3694501337732"
      ]
     },
     "execution_count": 12,
     "metadata": {},
     "output_type": "execute_result"
    }
   ],
   "source": [
    "data['fuel_qty_burned'].kurtosis()  #kurtosis"
   ]
  },
  {
   "cell_type": "markdown",
   "metadata": {},
   "source": [
    "## Question 6"
   ]
  },
  {
   "cell_type": "code",
   "execution_count": 20,
   "metadata": {},
   "outputs": [
    {
     "data": {
      "text/plain": [
       "record_id                       0\n",
       "utility_id_ferc1                0\n",
       "report_year                     0\n",
       "plant_name_ferc1                0\n",
       "fuel_type_code_pudl             0\n",
       "fuel_unit                       0\n",
       "fuel_qty_burned                 0\n",
       "fuel_mmbtu_per_unit             0\n",
       "fuel_cost_per_unit_burned       0\n",
       "fuel_cost_per_unit_delivered    0\n",
       "fuel_cost_per_mmbtu             0\n",
       "dtype: int64"
      ]
     },
     "execution_count": 20,
     "metadata": {},
     "output_type": "execute_result"
    }
   ],
   "source": [
    "data.isnull().sum()"
   ]
  },
  {
   "cell_type": "code",
   "execution_count": 17,
   "metadata": {},
   "outputs": [
    {
     "data": {
      "text/plain": [
       "record_id                       0.00\n",
       "utility_id_ferc1                0.00\n",
       "report_year                     0.00\n",
       "plant_name_ferc1                0.00\n",
       "fuel_type_code_pudl             0.00\n",
       "fuel_unit                       0.61\n",
       "fuel_qty_burned                 0.00\n",
       "fuel_mmbtu_per_unit             0.00\n",
       "fuel_cost_per_unit_burned       0.00\n",
       "fuel_cost_per_unit_delivered    0.00\n",
       "fuel_cost_per_mmbtu             0.00\n",
       "dtype: float64"
      ]
     },
     "execution_count": 17,
     "metadata": {},
     "output_type": "execute_result"
    }
   ],
   "source": [
    "(((data.isnull().sum())/ len(data)) * 100).round(3)"
   ]
  },
  {
   "cell_type": "markdown",
   "metadata": {},
   "source": [
    "## Question 7"
   ]
  },
  {
   "cell_type": "code",
   "execution_count": 18,
   "metadata": {},
   "outputs": [
    {
     "data": {
      "text/plain": [
       "dtype('O')"
      ]
     },
     "execution_count": 18,
     "metadata": {},
     "output_type": "execute_result"
    }
   ],
   "source": [
    "data.fuel_unit.dtype  #datatype is object so it is a categorical column"
   ]
  },
  {
   "cell_type": "code",
   "execution_count": 19,
   "metadata": {},
   "outputs": [],
   "source": [
    "cols = ['fuel_unit']\n",
    "for col in cols:\n",
    "    data[col].fillna(data[col].mode()[0], inplace=True)\n",
    "#it is advisable to fill with the most occuring category(mode)"
   ]
  },
  {
   "cell_type": "code",
   "execution_count": 21,
   "metadata": {},
   "outputs": [
    {
     "data": {
      "text/plain": [
       "record_id                       0\n",
       "utility_id_ferc1                0\n",
       "report_year                     0\n",
       "plant_name_ferc1                0\n",
       "fuel_type_code_pudl             0\n",
       "fuel_unit                       0\n",
       "fuel_qty_burned                 0\n",
       "fuel_mmbtu_per_unit             0\n",
       "fuel_cost_per_unit_burned       0\n",
       "fuel_cost_per_unit_delivered    0\n",
       "fuel_cost_per_mmbtu             0\n",
       "dtype: int64"
      ]
     },
     "execution_count": 21,
     "metadata": {},
     "output_type": "execute_result"
    }
   ],
   "source": [
    "data.isnull().sum()"
   ]
  },
  {
   "cell_type": "markdown",
   "metadata": {},
   "source": [
    "## Question 8\n",
    "\n",
    "The closer a correlation value is to zero the less correlated they are, so the second and third least correlated columns are\n",
    "- fuel_qty_burned\n",
    "- fuel_mmbtu_per_unit"
   ]
  },
  {
   "cell_type": "code",
   "execution_count": 28,
   "metadata": {},
   "outputs": [
    {
     "data": {
      "text/plain": [
       "<matplotlib.axes._subplots.AxesSubplot at 0x20dfd103f60>"
      ]
     },
     "execution_count": 28,
     "metadata": {},
     "output_type": "execute_result"
    },
    {
     "data": {
      "image/png": "[encoded data removed]",
      "text/plain": [
       "<Figure size 576x576 with 2 Axes>"
      ]
     },
     "metadata": {
      "needs_background": "light"
     },
     "output_type": "display_data"
    }
   ],
   "source": [
    "plt.figure(figsize = (8,8))\n",
    "sample = data.sample(n=15000, random_state=42)\n",
    "sns.heatmap(sample.corr(), annot = True)"
   ]
  },
  {
   "cell_type": "markdown",
   "metadata": {},
   "source": [
    "## Question 9"
   ]
  },
  {
   "cell_type": "code",
   "execution_count": 29,
   "metadata": {},
   "outputs": [],
   "source": [
    "#get the data for only fuel type of coal \n",
    "coal = data[data['fuel_type_code_pudl']=='coal']"
   ]
  },
  {
   "cell_type": "code",
   "execution_count": 30,
   "metadata": {},
   "outputs": [
    {
     "data": {
      "text/plain": [
       "report_year\n",
       "1994     14984.572\n",
       "1995     14571.785\n",
       "1996     12694.803\n",
       "1997     43742.178\n",
       "1998     11902.597\n",
       "1999     16303.468\n",
       "2000    100428.831\n",
       "2001     15109.012\n",
       "2002      9171.164\n",
       "2003     30954.110\n",
       "2004      9632.063\n",
       "2005     11107.182\n",
       "2006     12402.684\n",
       "2007     12965.171\n",
       "2008     14331.348\n",
       "2009     45554.858\n",
       "2010     88627.745\n",
       "2011     17001.015\n",
       "2012     17546.097\n",
       "2013     17629.860\n",
       "2014     15412.197\n",
       "2015     13338.235\n",
       "2016     11100.925\n",
       "2017     10254.284\n",
       "2018      9488.197\n",
       "Name: fuel_cost_per_unit_burned, dtype: float64"
      ]
     },
     "execution_count": 30,
     "metadata": {},
     "output_type": "execute_result"
    }
   ],
   "source": [
    "#fuel cost per unit burned over the years for coal users\n",
    "#group by the year and show their respective sum of fuel cost per unit burned\n",
    "coal.groupby('report_year')['fuel_cost_per_unit_burned'].sum()"
   ]
  },
  {
   "cell_type": "code",
   "execution_count": 34,
   "metadata": {},
   "outputs": [
    {
     "data": {
      "text/plain": [
       "-20.567654518260518"
      ]
     },
     "execution_count": 34,
     "metadata": {},
     "output_type": "execute_result"
    }
   ],
   "source": [
    "#manual computation from the above result\n",
    "((11902.597 - 14984.572)/14984.572) *100"
   ]
  },
  {
   "cell_type": "markdown",
   "metadata": {},
   "source": [
    "## Question 10"
   ]
  },
  {
   "cell_type": "code",
   "execution_count": 36,
   "metadata": {},
   "outputs": [
    {
     "data": {
      "text/plain": [
       "report_year\n",
       "1997    11140.197239\n",
       "1996     9196.705948\n",
       "2000      985.362877\n",
       "2009      652.694163\n",
       "2018      499.269966\n",
       "2015      326.535511\n",
       "1998      287.154420\n",
       "2014      192.737183\n",
       "2013      172.307591\n",
       "2004      139.524275\n",
       "2016      103.901761\n",
       "2010       91.862105\n",
       "1994       63.636060\n",
       "2012       60.994502\n",
       "2001       60.050396\n",
       "2011       59.774667\n",
       "2008       58.588197\n",
       "2003       55.663493\n",
       "2002       47.594361\n",
       "2017       46.196861\n",
       "2007       43.325023\n",
       "2005       41.438184\n",
       "2006       38.657484\n",
       "1995       32.735269\n",
       "1999       25.551627\n",
       "Name: fuel_cost_per_unit_delivered, dtype: float64"
      ]
     },
     "execution_count": 36,
     "metadata": {},
     "output_type": "execute_result"
    }
   ],
   "source": [
    "#since we're looking for the year with the highest average fuel cost per unit delivered,\n",
    "#group the data by year the print the respective averages of the fuel cost per unit delivered per year\n",
    "#arramge in descending order(highest to smallest)\n",
    "\n",
    "data.groupby('report_year')['fuel_cost_per_unit_delivered'].mean().sort_values(ascending = False)"
   ]
  },
  {
   "cell_type": "code",
   "execution_count": null,
   "metadata": {},
   "outputs": [],
   "source": []
  }
 ],
 "metadata": {
  "kernelspec": {
   "display_name": "Python 3",
   "language": "python",
   "name": "python3"
  },
  "language_info": {
   "codemirror_mode": {
    "name": "ipython",
    "version": 3
   },
   "file_extension": ".py",
   "mimetype": "text/x-python",
   "name": "python",
   "nbconvert_exporter": "python",
   "pygments_lexer": "ipython3",
   "version": "3.7.1"
  }
 },
 "nbformat": 4,
 "nbformat_minor": 2
}
